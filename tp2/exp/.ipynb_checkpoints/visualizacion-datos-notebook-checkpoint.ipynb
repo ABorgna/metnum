{
 "cells": [
  {
   "cell_type": "code",
   "execution_count": 2,
   "metadata": {},
   "outputs": [],
   "source": [
    "from math import sqrt"
   ]
  },
  {
   "cell_type": "code",
   "execution_count": 123,
   "metadata": {},
   "outputs": [],
   "source": [
    "def calculate_distance_to_origin(review):\n",
    "    reps = {}\n",
    "    for token in review:\n",
    "        if token in reps:\n",
    "            reps[token] += 1\n",
    "        else:\n",
    "            reps[token] = 1\n",
    "    \n",
    "    sum = 0\n",
    "    for token_quantity in reps.values():\n",
    "        sum += token_quantity**2\n",
    "    return sqrt(sum)\n",
    "    "
   ]
  },
  {
   "cell_type": "code",
   "execution_count": 93,
   "metadata": {},
   "outputs": [],
   "source": [
    "reviews = open(\"../data/imdb_tokenized.csv\", 'r')\n",
    "\n",
    "negative_distances_to_origin = []\n",
    "positive_distances_to_origin = []\n",
    "count = 0\n",
    "for review in reviews:\n",
    "    count += 1\n",
    "    review = review.strip().split(',')\n",
    "    tokens = review[3:]\n",
    "    polarity = review[2]\n",
    "    distance = calculate_distance_to_origin(tokens)\n",
    "    if (polarity == \"pos\"):\n",
    "        positive_distances_to_origin.append(distance)\n",
    "    else:\n",
    "        negative_distances_to_origin.append(distance)\n",
    "    "
   ]
  },
  {
   "cell_type": "code",
   "execution_count": 122,
   "metadata": {},
   "outputs": [
    {
     "data": {
      "image/png": "[encoded data removed]",
      "text/plain": [
       "<Figure size 1440x216 with 1 Axes>"
      ]
     },
     "metadata": {
      "needs_background": "light"
     },
     "output_type": "display_data"
    }
   ],
   "source": [
    "import numpy as np\n",
    "import matplotlib.pyplot as pp\n",
    "pp.figure(figsize=(20,3))\n",
    "pp.plot(negative_distances_to_origin, np.zeros_like(negative_distances_to_origin)+0.01, '.',alpha=0.2) #mover alpha!\n",
    "pp.plot(positive_distances_to_origin, np.zeros_like(positive_distances_to_origin), '.',alpha=0.2)      #mover alpha!\n",
    "# pp.xlim(0, 25)\n",
    "pp.show()"
   ]
  }
 ],
 "metadata": {
  "kernelspec": {
   "display_name": "Python 3",
   "language": "python",
   "name": "python3"
  },
  "language_info": {
   "codemirror_mode": {
    "name": "ipython",
    "version": 3
   },
   "file_extension": ".py",
   "mimetype": "text/x-python",
   "name": "python",
   "nbconvert_exporter": "python",
   "pygments_lexer": "ipython3",
   "version": "3.5.2"
  }
 },
 "nbformat": 4,
 "nbformat_minor": 2
}
