{
 "cells": [
  {
   "cell_type": "code",
   "execution_count": 1,
   "metadata": {
    "collapsed": true
   },
   "outputs": [],
   "source": [
    "import pandas as pd\n",
    "import seaborn as sns\n",
    "import numpy as np\n",
    "import matplotlib.pyplot as plt"
   ]
  },
  {
   "cell_type": "code",
   "execution_count": 12,
   "metadata": {
    "collapsed": true
   },
   "outputs": [],
   "source": [
    "autovec = []\n",
    "\n",
    "with open(\"../analysis/potencia\", 'r') as pot:\n",
    "    for line in pot:\n",
    "        if line.find(\"autovec\") != -1:\n",
    "            line = line[line.find(\"autovec\") + 8:]\n",
    "            dim = int(line[2:line.find(\";\")])\n",
    "            line = line[line.find(\";\")+1:]\n",
    "            line = line[:-2]\n",
    "            line = line.strip().split(\",\")\n",
    "            autovec.append(list(map(float, line)))"
   ]
  },
  {
   "cell_type": "code",
   "execution_count": 13,
   "metadata": {
    "collapsed": true
   },
   "outputs": [],
   "source": [
    "def prod(v1, v2):\n",
    "    ans = 0\n",
    "    if len(v1) != len(v2):\n",
    "        return None\n",
    "    for x in range(len(v1)):\n",
    "        ans += v1[x]*v2[x]\n",
    "    return ans"
   ]
  },
  {
   "cell_type": "code",
   "execution_count": 20,
   "metadata": {},
   "outputs": [
    {
     "name": "stdout",
     "output_type": "stream",
     "text": [
      "normales\n",
      "9.192283374481747e-07\n",
      "4.62687486382728e-09\n",
      "7.121582482119115e-08\n",
      "4.62687486382728e-09\n",
      "normales\n",
      "6.628138841113795e-07\n",
      "1.1704091476454369e-06\n",
      "7.121582482119115e-08\n",
      "1.1704091476454369e-06\n",
      "normales\n",
      "2.934098599638446e-07\n"
     ]
    }
   ],
   "source": [
    "for x in range(len(autovec)):\n",
    "    for y in range(len(autovec)):\n",
    "        if (x == y) and (abs(prod(autovec[x], autovec[y]) - 1) > 0.00000000003):\n",
    "            print(\"normales\")\n",
    "            print (abs(prod(autovec[x], autovec[y]) - 1))\n",
    "        elif (x != y) and abs(prod(autovec[x], autovec[y])) > 0.0000000003:\n",
    "            print (abs(prod(autovec[x], autovec[y])))\n",
    "\n",
    "        "
   ]
  },
  {
   "cell_type": "code",
   "execution_count": null,
   "metadata": {
    "collapsed": true
   },
   "outputs": [],
   "source": [
    "\n"
   ]
  },
  {
   "cell_type": "code",
   "execution_count": null,
   "metadata": {
    "collapsed": true
   },
   "outputs": [],
   "source": []
  }
 ],
 "metadata": {
  "kernelspec": {
   "display_name": "Python 3",
   "language": "python",
   "name": "python3"
  },
  "language_info": {
   "codemirror_mode": {
    "name": "ipython",
    "version": 3
   },
   "file_extension": ".py",
   "mimetype": "text/x-python",
   "name": "python",
   "nbconvert_exporter": "python",
   "pygments_lexer": "ipython3",
   "version": "3.6.2"
  }
 },
 "nbformat": 4,
 "nbformat_minor": 2
}
