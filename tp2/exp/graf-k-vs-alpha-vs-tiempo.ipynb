{
 "cells": [
  {
   "cell_type": "code",
   "execution_count": 2,
   "metadata": {},
   "outputs": [],
   "source": [
    "import pandas as pd\n",
    "import seaborn as sns\n",
    "import numpy as np\n",
    "import matplotlib.pyplot as plt"
   ]
  },
  {
   "cell_type": "raw",
   "metadata": {},
   "source": [
    "df = pd.read_csv('./tiempos_variando_alpha_k10_50_1_50.csv', sep=',', engine='python')\n",
    "# print(df)\n",
    "\n",
    "cant_nodos = df[\"tiempo\"]\n",
    "df[\"alpha\"] = np.around(df[\"alpha\"], decimals=0)\n",
    "ax = sns.heatmap(data = df.groupby(['k','alpha'], as_index=False).mean().pivot('k','alpha', 'tiempo'),cmap=\"Blues\")\n",
    "ax.set_title(\"Tiempos segun alpha y k\".format(df[\"tiempo\"]))\n",
    "ax.invert_yaxis()\n",
    "ax.set_yticklabels(ax.get_yticklabels(), rotation = 0)\n",
    "plt.xlabel(r'alpha')\n",
    "plt.ylabel(r'k')\n",
    "plt.savefig('img/tiempos-alpha-k.png')\n",
    "plt.show()"
   ]
  },
  {
   "cell_type": "code",
   "execution_count": 17,
   "metadata": {},
   "outputs": [
    {
     "data": {
      "image/png": "[encoded data removed]",
      "text/plain": [
       "<Figure size 432x288 with 2 Axes>"
      ]
     },
     "metadata": {
      "needs_background": "light"
     },
     "output_type": "display_data"
    }
   ],
   "source": [
    "df = pd.read_csv('./res/tiempos_variando_alpha_k1_50_1_100.csv', sep=',', engine='python')\n",
    "# print(df)\n",
    "\n",
    "tiempo = df[\"tiempo\"][0]\n",
    "df[\"alpha\"] = np.around(df[\"alpha\"], decimals=0)\n",
    "ax = sns.heatmap(data = df.groupby(['k','alpha'], as_index=False).mean().pivot('k','alpha','tiempo'),cmap=\"cool\")\n",
    "ax.set_title(\"Tiempos segun alpha y k\".format(df[\"tiempo\"]))\n",
    "ax.invert_yaxis()\n",
    "ax.set_yticklabels(ax.get_yticklabels(), rotation = 0)\n",
    "plt.xlabel(r'alpha')\n",
    "plt.ylabel(r'k')\n",
    "plt.savefig('img/tiempos-alpha-k.png')\n",
    "plt.show()"
   ]
  }
 ],
 "metadata": {
  "kernelspec": {
   "display_name": "Python 3",
   "language": "python",
   "name": "python3"
  },
  "language_info": {
   "codemirror_mode": {
    "name": "ipython",
    "version": 3
   },
   "file_extension": ".py",
   "mimetype": "text/x-python",
   "name": "python",
   "nbconvert_exporter": "python",
   "pygments_lexer": "ipython3",
   "version": "3.5.2"
  }
 },
 "nbformat": 4,
 "nbformat_minor": 2
}
