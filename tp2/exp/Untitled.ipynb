{
 "cells": [
  {
   "cell_type": "code",
   "execution_count": null,
   "metadata": {
    "collapsed": true
   },
   "outputs": [],
   "source": [
    "import os\n",
    "import shutil\n",
    "import numpy\n",
    "import subprocess\n",
    "\n",
    "def parsear_output(output):\n",
    "    sep = output.find(\"\\n\")\n",
    "    return output[0:sep], output[sep+1:-1].split(\"\\n\") #p, ranks\n",
    "\n",
    "def ejecutar_con_args(args):\n",
    "    cmd = \"../tp2 \" + \" \".join([str(arg) for arg in args])\n",
    "    # print(cmd)\n",
    "    # output = subprocess.check_output(cmd, stderr=subprocess.STDOUT, shell=True).decode(\"utf-8\")\n",
    "    # print(output)\n",
    "    return subprocess.check_output(cmd, stderr=subprocess.STDOUT, shell=True).decode(\"utf-8\")\n",
    "\n"
   ]
  }
 ],
 "metadata": {
  "kernelspec": {
   "display_name": "Python 3",
   "language": "python",
   "name": "python3"
  },
  "language_info": {
   "codemirror_mode": {
    "name": "ipython",
    "version": 3
   },
   "file_extension": ".py",
   "mimetype": "text/x-python",
   "name": "python",
   "nbconvert_exporter": "python",
   "pygments_lexer": "ipython3",
   "version": "3.6.2"
  }
 },
 "nbformat": 4,
 "nbformat_minor": 2
}
