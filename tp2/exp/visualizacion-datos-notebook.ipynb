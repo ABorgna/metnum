{
 "cells": [
  {
   "cell_type": "code",
   "execution_count": 132,
   "metadata": {},
   "outputs": [],
   "source": [
    "from math import sqrt\n",
    "import numpy as np\n",
    "import matplotlib.pyplot as plt\n",
    "from sklearn.decomposition import PCA\n",
    "\n",
    "# number_of_vocals = 168277"
   ]
  },
  {
   "cell_type": "code",
   "execution_count": 143,
   "metadata": {},
   "outputs": [],
   "source": [
    "def to_bow(tokens):\n",
    "    \"\"\" Recibe una lista de tokens y devuelve un bow(diccionario) \"\"\"\n",
    "    bow = {}\n",
    "    for token in tokens:\n",
    "        if token in bow:\n",
    "            bow[token] += 1\n",
    "        else:\n",
    "            bow[token] = 1\n",
    "    return bow\n",
    "\n",
    "def calculate_distance_to_origin(bow):\n",
    "    sum = 0\n",
    "    for quantity in bow:\n",
    "        sum += (quantity)**2\n",
    "    return sqrt(sum)"
   ]
  },
  {
   "cell_type": "code",
   "execution_count": 142,
   "metadata": {},
   "outputs": [],
   "source": [
    "potencia = open(\"../analysis/potencia\", 'r')\n",
    "\n",
    "m = []\n",
    "dim = 0\n",
    "for line in potencia:\n",
    "    if line.find(\"autovec\") != -1:\n",
    "        line = line[line.find(\"autovec\") + 8:]\n",
    "        dim = int(line[2:line.find(\";\")])\n",
    "        line = line[line.find(\";\")+1:]\n",
    "        line = line[:-2]\n",
    "        line = line.strip().split(\",\")\n",
    "        m.append(line)\n",
    "m = np.matrix(m, dtype=float)"
   ]
  },
  {
   "cell_type": "code",
   "execution_count": 141,
   "metadata": {},
   "outputs": [],
   "source": [
    "def tc(x):\n",
    "    \"\"\"Recibe una bow y le aplica la transf. caracteristica.\"\"\"\n",
    "    x_filtered = np.array([0]*dim)\n",
    "    for (vocal, quantity) in x.items():\n",
    "        if int(vocal) < dim:\n",
    "            x_filtered[int(vocal)] = int(quantity)\n",
    "    return np.array(m.dot(x_filtered))[0]\n",
    "# tc({1:3, 10:5})"
   ]
  },
  {
   "cell_type": "markdown",
   "metadata": {},
   "source": [
    "Para cada review hago lo siguiente:\n",
    "1. Le aplico TC\n",
    "2. Calculo la distancia al origen.\n",
    "3. Lo agrego a la lista de distancias correspondiente por polaridad"
   ]
  },
  {
   "cell_type": "code",
   "execution_count": 129,
   "metadata": {},
   "outputs": [
    {
     "name": "stdout",
     "output_type": "stream",
     "text": [
      "Ok\n"
     ]
    }
   ],
   "source": [
    "reviews = open(\"../data/imdb_tokenized.csv\", 'r')\n",
    "\n",
    "\n",
    "positive_distances_to_origin = {}\n",
    "negative_distances_to_origin = {}\n",
    "for review in reviews:\n",
    "    review = review.strip().split(',')\n",
    "    polarity = review[2]\n",
    "    \n",
    "    bow = to_bow(review[3:])\n",
    "    bow_transformed = tc(bow)\n",
    "    \n",
    "    distance = calculate_distance_to_origin(bow_transformed)\n",
    "    if (polarity == \"pos\"):\n",
    "        if distance in positive_distances_to_origin.keys():\n",
    "            positive_distances_to_origin[distance] += 1\n",
    "        else:\n",
    "            positive_distances_to_origin[distance] = 1\n",
    "    else:\n",
    "        if distance in negative_distances_to_origin.keys():\n",
    "            negative_distances_to_origin[distance] += 1\n",
    "        else:\n",
    "            negative_distances_to_origin[distance] = 1\n",
    "\n",
    "print(\"Ok\")"
   ]
  },
  {
   "cell_type": "markdown",
   "metadata": {},
   "source": [
    "Experimento tener una mejor idea de la distribución deel training-set: \n",
    "1. Aplico TC a todos los vectores de training.\n",
    "2. Ploteo las distancias al origen de cada uno (separando por polaridad)"
   ]
  },
  {
   "cell_type": "code",
   "execution_count": 140,
   "metadata": {},
   "outputs": [
    {
     "data": {
      "image/png": "[encoded data removed]",
      "text/plain": [
       "<matplotlib.figure.Figure at 0x7f2e186d9e80>"
      ]
     },
     "metadata": {},
     "output_type": "display_data"
    },
    {
     "data": {
      "image/png": "[encoded data removed]",
      "text/plain": [
       "<matplotlib.figure.Figure at 0x7f2e186d9ac8>"
      ]
     },
     "metadata": {},
     "output_type": "display_data"
    },
    {
     "data": {
      "image/png": "[encoded data removed]",
      "text/plain": [
       "<matplotlib.figure.Figure at 0x7f2e1a017b38>"
      ]
     },
     "metadata": {},
     "output_type": "display_data"
    }
   ],
   "source": [
    "plt.bar(positive_distances_to_origin.keys(), positive_distances_to_origin.values())\n",
    "plt.savefig(\"img/1\")\n",
    "plt.show()\n",
    "\n",
    "plt.bar(negative_distances_to_origin.keys(), negative_distances_to_origin.values())\n",
    "plt.xlim(0,200)\n",
    "plt.savefig(\"img/2\")\n",
    "plt.show()\n",
    "\n",
    "plt.bar(positive_distances_to_origin.keys(), positive_distances_to_origin.values())\n",
    "plt.bar(negative_distances_to_origin.keys(), negative_distances_to_origin.values())\n",
    "plt.savefig(\"img/3\")"
   ]
  }
 ],
 "metadata": {
  "kernelspec": {
   "display_name": "Python 3",
   "language": "python",
   "name": "python3"
  },
  "language_info": {
   "codemirror_mode": {
    "name": "ipython",
    "version": 3
   },
   "file_extension": ".py",
   "mimetype": "text/x-python",
   "name": "python",
   "nbconvert_exporter": "python",
   "pygments_lexer": "ipython3",
   "version": "3.6.4"
  }
 },
 "nbformat": 4,
 "nbformat_minor": 2
}
