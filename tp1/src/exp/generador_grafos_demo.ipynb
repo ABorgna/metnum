{
 "cells": [
  {
   "cell_type": "code",
   "execution_count": 4,
   "metadata": {},
   "outputs": [],
   "source": [
    "from generador_grafos import *\n",
    "from grafos_utils import *"
   ]
  },
  {
   "cell_type": "code",
   "execution_count": 9,
   "metadata": {
    "scrolled": true
   },
   "outputs": [
    {
     "name": "stdout",
     "output_type": "stream",
     "text": [
      "Completo 5 nodos\n",
      "0 1 1 1 1 \n",
      "1 0 1 1 1 \n",
      "1 1 0 1 1 \n",
      "1 1 1 0 1 \n",
      "1 1 1 1 0 \n",
      "\n",
      "Estrella 5 nodos apuntando hacia adentro\n",
      "0 0 0 0 0 \n",
      "1 0 0 0 0 \n",
      "1 0 0 0 0 \n",
      "1 0 0 0 0 \n",
      "1 0 0 0 0 \n",
      "\n",
      "Union de los anteriores: grafo estrella 5 nodos hacia adentro con completo 5 nodos\n",
      "0 1 1 1 1 0 0 0 0 0 \n",
      "1 0 1 1 1 0 0 0 0 0 \n",
      "1 1 0 1 1 0 0 0 0 0 \n",
      "1 1 1 0 1 0 0 0 0 0 \n",
      "1 1 1 1 0 0 0 0 0 0 \n",
      "0 0 0 0 0 0 0 0 0 0 \n",
      "0 0 0 0 0 1 0 0 0 0 \n",
      "0 0 0 0 0 1 0 0 0 0 \n",
      "0 0 0 0 0 1 0 0 0 0 \n",
      "0 0 0 0 0 1 0 0 0 0 \n",
      "\n",
      "Estrella 5 nodos apuntando hacia adentro\n",
      "0 1 1 1 1 \n",
      "0 0 0 0 0 \n",
      "0 0 0 0 0 \n",
      "0 0 0 0 0 \n",
      "0 0 0 0 0 \n"
     ]
    }
   ],
   "source": [
    "print (\"Completo 5 nodos\")\n",
    "k5 = generar_grafo_trivial(5)\n",
    "agregar_grafo_completo(k5, 5)\n",
    "imprimir_matriz(k5)\n",
    "\n",
    "print (\"\\nEstrella 5 nodos apuntando hacia adentro\")\n",
    "e5_in = generar_grafo_trivial(5)\n",
    "agregar_grafo_estrella_hacia_adentro(e5_in)\n",
    "imprimir_matriz(e5_in)\n",
    "\n",
    "print(\"\\nUnion de los anteriores: grafo estrella 5 nodos hacia adentro con completo 5 nodos\") \n",
    "union = generar_grafo_union([k5, e5_in])\n",
    "imprimir_matriz(union)\n",
    "\n",
    "print (\"\\nEstrella 5 nodos apuntando hacia adentro\")\n",
    "e5_out = generar_grafo_trivial(5)\n",
    "agregar_grafo_estrella_hacia_afuera(e5_out)\n",
    "imprimir_matriz(e5_out)\n",
    "\n",
    "# print (\"\\nGuardar grafo completo en archivo con el formato del enunciado\")\n",
    "# guardar_matriz_en_archivo(k5, \"../k5\", True)"
   ]
  },
  {
   "cell_type": "code",
   "execution_count": 10,
   "metadata": {},
   "outputs": [
    {
     "name": "stdout",
     "output_type": "stream",
     "text": [
      "Union de 2 estrellas de 5 nodos hacia adentro\n",
      "0 0 0 0 0 0 0 0 0 0 1 \n",
      "1 0 0 0 0 0 0 0 0 0 0 \n",
      "1 0 0 0 0 0 0 0 0 0 0 \n",
      "1 0 0 0 0 0 0 0 0 0 0 \n",
      "1 0 0 0 0 0 0 0 0 0 0 \n",
      "0 0 0 0 0 0 0 0 0 0 1 \n",
      "0 0 0 0 0 1 0 0 0 0 0 \n",
      "0 0 0 0 0 1 0 0 0 0 0 \n",
      "0 0 0 0 0 1 0 0 0 0 0 \n",
      "0 0 0 0 0 1 0 0 0 0 0 \n",
      "0 0 0 0 0 0 0 0 0 0 0 \n",
      "\n",
      "Union de 2 estrellas de 5 nodos hacia afuera\n",
      "0 1 1 1 1 0 0 0 0 0 0 \n",
      "0 0 0 0 0 0 0 0 0 0 0 \n",
      "0 0 0 0 0 0 0 0 0 0 0 \n",
      "0 0 0 0 0 0 0 0 0 0 0 \n",
      "0 0 0 0 0 0 0 0 0 0 0 \n",
      "0 0 0 0 0 0 1 1 1 1 0 \n",
      "0 0 0 0 0 0 0 0 0 0 0 \n",
      "0 0 0 0 0 0 0 0 0 0 0 \n",
      "0 0 0 0 0 0 0 0 0 0 0 \n",
      "0 0 0 0 0 0 0 0 0 0 0 \n",
      "1 0 0 0 0 1 0 0 0 0 0 \n"
     ]
    }
   ],
   "source": [
    "\n",
    "print(\"Union de 2 estrellas de 5 nodos hacia adentro\")\n",
    "ue5_in = generar_grafo_estrellas_unidas_hacia_adentro(2, 5)\n",
    "imprimir_matriz(ue5_in)\n",
    "\n",
    "print(\"\\nUnion de 2 estrellas de 5 nodos hacia afuera\")\n",
    "ue5_out = generar_grafo_estrellas_unidas_hacia_afuera(2, 5)\n",
    "imprimir_matriz(ue5_out)"
   ]
  }
 ],
 "metadata": {
  "kernelspec": {
   "display_name": "Python 3",
   "language": "python",
   "name": "python3"
  },
  "language_info": {
   "codemirror_mode": {
    "name": "ipython",
    "version": 3
   },
   "file_extension": ".py",
   "mimetype": "text/x-python",
   "name": "python",
   "nbconvert_exporter": "python",
   "pygments_lexer": "ipython3",
   "version": "3.6.4"
  }
 },
 "nbformat": 4,
 "nbformat_minor": 2
}
