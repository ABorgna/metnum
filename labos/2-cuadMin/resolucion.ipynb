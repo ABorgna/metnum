{
  "nbformat": 4,
  "nbformat_minor": 0,
  "metadata": {
    "colab": {
      "name": "Copy of Taller2_alumnos.ipynb",
      "version": "0.3.2",
      "provenance": [],
      "collapsed_sections": []
    },
    "kernelspec": {
      "display_name": "Python 3",
      "language": "python",
      "name": "python3"
    }
  },
  "cells": [
    {
      "metadata": {
        "id": "RN7rLwdGEoO3",
        "colab_type": "text"
      },
      "cell_type": "markdown",
      "source": [
        "Taller 2\n",
        "======\n",
        "\n",
        "Cuadrados minimos\n",
        "------\n",
        "\n",
        "El objetivo del taller es ganar un entendimiento más profundo de los temas que entran en el segundo parcial.\n",
        "Por tal motivo, se deben resolver los siguientes ejercicios y responder las preguntas justificando adecuadamente.\n"
      ]
    },
    {
      "metadata": {
        "id": "gsANZ7OREoO6",
        "colab_type": "text"
      },
      "cell_type": "markdown",
      "source": [
        "## Ejercicio 1\n",
        "Dada la siguiente matriz\n",
        "$$\n",
        "A =\n",
        "\\begin{pmatrix}\n",
        "\t1 & \\sqrt{3} & 0 \\\\\n",
        "\t\\sqrt{3} & 4 & \\sqrt{3}/2 \\\\\n",
        "\t0 & \\sqrt{3}/2 & 7/4\n",
        "\\end{pmatrix}\n",
        "$$\n",
        "\n",
        "Hallar $A = U \\Sigma V^t$ la descomposición en valores singulares de $A$ utilizando únicamente la función `eig` de Numpy para calcular los autovalores y autovectores necesarios.\n"
      ]
    },
    {
      "metadata": {
        "id": "W9MQ-9WTEoO7",
        "colab_type": "code",
        "colab": {
          "base_uri": "https://localhost:8080/",
          "height": 34
        },
        "outputId": "2b11fb2b-80ba-401e-c882-fc63278a103a"
      },
      "cell_type": "code",
      "source": [
        "import numpy as np\n",
        "from numpy.linalg import eig\n",
        "np.set_printoptions(suppress=True)  # elimino notacion cientifica\n",
        "\n",
        "A = np.array([[1,          np.sqrt(3),   0           ],\n",
        "              [np.sqrt(3), 4,            np.sqrt(3)/2],\n",
        "              [0,          np.sqrt(3)/2, 7/4         ]])\n",
        "\n",
        "# COMPLETAR\n",
        "\n",
        "# Es simétrics => A = UEVt => V = U\n",
        "E, U = np.linalg.eig(A)\n",
        "\n",
        "# Ordenar autovalores\n",
        "idx = E.argsort()[::-1]   \n",
        "E = E[idx]\n",
        "U = U[:,idx]\n",
        "\n",
        "D = np.diag(E)\n",
        "(U) @ D @ np.transpose(U)\n",
        "np.allclose(A, (U) @ D @ np.transpose(U))\n"
      ],
      "execution_count": 135,
      "outputs": [
        {
          "output_type": "execute_result",
          "data": {
            "text/plain": [
              "True"
            ]
          },
          "metadata": {
            "tags": []
          },
          "execution_count": 135
        }
      ]
    },
    {
      "metadata": {
        "id": "qiT3sCqzEoO_",
        "colab_type": "text"
      },
      "cell_type": "markdown",
      "source": [
        "## Ejercicio 2\n",
        "\n",
        "Dado el siguiente sistema lineal sobredeterminado:\n",
        "$$\n",
        "\\begin{pmatrix}\n",
        "1  & 0  & 0 \\\\\n",
        "0  & 1  & 0 \\\\\n",
        "0  & 0  & 1 \\\\\n",
        "-1 & 1  & 0 \\\\\n",
        "0  & -1 & 0 \\\\\n",
        "-1 & 0  & 1\n",
        "\\end{pmatrix}\n",
        "%\n",
        "\\begin{pmatrix}\n",
        "x_a \\\\\n",
        "x_b \\\\\n",
        "x_c\n",
        "\\end{pmatrix}\n",
        "=\n",
        "\\begin{pmatrix}\n",
        "1 \\\\ \n",
        "2 \\\\ \n",
        "3 \\\\\n",
        "1 \\\\\n",
        "2 \\\\\n",
        "1\n",
        "\\end{pmatrix}\n",
        "$$\n",
        "Resolver mediante cuadrados mínimos (utilizando ecuaciones normales). \n",
        "\n",
        "- Verificar que el residuo es ortogonal a las columnas de la matriz A. ¿A qué subespacio pertenece el residuo?\n",
        "\n",
        "- ¿Cómo se relaciona el punto anterior con las ecuaciones normales? Justificar\n"
      ]
    },
    {
      "metadata": {
        "id": "voBRskqYEoPA",
        "colab_type": "code",
        "colab": {
          "base_uri": "https://localhost:8080/",
          "height": 69
        },
        "outputId": "60a76801-e27e-4107-f653-5d0e355a914e"
      },
      "cell_type": "code",
      "source": [
        "A = np.array([[1, 0, 0],\n",
        "              [0, 1, 0],\n",
        "              [0, 0, 1],\n",
        "              [-1,1, 0],\n",
        "              [0,-1, 0],\n",
        "              [-1,0, 1]])\n",
        "\n",
        "b = np.array([1, 2, 3, 1, 2, 1])\n",
        "\n",
        "At = np.transpose(A)\n",
        "\n",
        "AtA = At @ A\n",
        "Atb = At @ b\n",
        "\n",
        "x = np.linalg.solve(At @ A, At @ b)\n",
        "\n",
        "R = (b - A @ x)\n",
        "\n",
        "print(\"El Residuo es ortogonal a las columnas de A (At R == 0) : {}\"\n",
        "      .format(np.allclose(At @ R, np.zeros(3))))\n",
        "print()\n",
        "print(\"Si el residuo = Ax - b es ortogonal a las columnas de A,\",\n",
        "      \"entonces At @ R da 0, porque es como hacer el producto interno\",\n",
        "      \"de las columnas de A por r.\")"
      ],
      "execution_count": 114,
      "outputs": [
        {
          "output_type": "stream",
          "text": [
            "El Residuo es ortogonal a las columnas de A (At R == 0) : True\n",
            "\n",
            "Si el residuo = Ax - b es ortogonal a las columnas de A, entonces At @ R da 0, porque es como hacer el producto interno de las columnas de A por r.\n"
          ],
          "name": "stdout"
        }
      ]
    },
    {
      "metadata": {
        "id": "uvFxHJ0xEoPE",
        "colab_type": "text"
      },
      "cell_type": "markdown",
      "source": [
        "## Ejercicio 3\n",
        "\n",
        "Completar los métodos de Jacobi y Gauss-Seidel  para resolver las ecuaciones normales de cuadrados mínimos mediante los mencionados métodos iterativos. \n",
        "\n",
        "Realizar lo siguiente:\n",
        "- Explicar el problema: ¿Cómo son los datos? ¿Cómo los queremos aproximar?\n",
        "- Probar distintos valores de cantidad de iteraciones e inicialización del vector solución. \n",
        "- Graficar los errores y la función aproximada por cuadrados mínimos.\n",
        "- ¿Qué puede decir sobre los valores estimados de los coeficientes de mayor grado?\n"
      ]
    },
    {
      "metadata": {
        "id": "g7IEkxlgEoPF",
        "colab_type": "code",
        "outputId": "8956078d-5a85-49a0-f6dc-0d3b923b4e98",
        "colab": {
          "base_uri": "https://localhost:8080/",
          "height": 362
        }
      },
      "cell_type": "code",
      "source": [
        "import numpy as np\n",
        "import matplotlib.pyplot as plt\n",
        "\n",
        "# Datos: polinomio de grado 2 (con ruido).\n",
        "t = np.arange(1, 40, 0.1)\n",
        "y = 1/2 * t ** 2 + 4 * t + 15\n",
        "y = y + np.random.randn(*t.shape) * 10  # Agrego ruido\n",
        "\n",
        "plt.plot(t, y, '.')\n",
        "plt.title('Datos a ajustar')\n",
        "plt.show()\n"
      ],
      "execution_count": 115,
      "outputs": [
        {
          "output_type": "display_data",
          "data": {
            "image/png": "[encoded data removed]",
            "text/plain": [
              "<matplotlib.figure.Figure at 0x7f106a610dd8>"
            ]
          },
          "metadata": {
            "tags": []
          }
        }
      ]
    },
    {
      "metadata": {
        "id": "itBREaMGEoPL",
        "colab_type": "code",
        "colab": {
          "base_uri": "https://localhost:8080/",
          "height": 34
        },
        "outputId": "d6c8c8b8-6194-4e81-fc7c-326a1f9169eb"
      },
      "cell_type": "code",
      "source": [
        "# Ecuaciones normales de cuadrados minimos\n",
        "# Vamos a fitear por un polinomio de grado 4\n",
        "\n",
        "A = np.stack([np.ones(t.shape), t, t ** 2, t ** 3, t ** 4]).T\n",
        "b = y\n",
        "\n",
        "AtA = A.T @ A  # @ es una abreviacion de `np.matmul`\n",
        "Atb = A.T @ b\n",
        "\n",
        "correct_ans = np.linalg.solve(AtA, Atb)\n",
        "\n",
        "np.set_printoptions(suppress=True)  # elimino notacion cientifica\n",
        "print(correct_ans)"
      ],
      "execution_count": 116,
      "outputs": [
        {
          "output_type": "stream",
          "text": [
            "[10.73067082  4.91359959  0.44987258  0.00100203 -0.00000644]\n"
          ],
          "name": "stdout"
        }
      ]
    },
    {
      "metadata": {
        "id": "b5c3UoSwEoPO",
        "colab_type": "code",
        "colab": {}
      },
      "cell_type": "code",
      "source": [
        "# Matrices para los metodos iterativos\n",
        "D = np.diag(np.diag(AtA))\n",
        "L = -np.tril(AtA, -1)\n",
        "U = -np.triu(AtA, 1)"
      ],
      "execution_count": 0,
      "outputs": []
    },
    {
      "metadata": {
        "id": "vdH3qaDoglok",
        "colab_type": "code",
        "colab": {
          "base_uri": "https://localhost:8080/",
          "height": 34
        },
        "outputId": "18dc494f-6965-48bd-c21d-3f764f7770b8"
      },
      "cell_type": "code",
      "source": [
        "eigen = np.linalg.eigvals(T)\n",
        "np.max(eigen)"
      ],
      "execution_count": 118,
      "outputs": [
        {
          "output_type": "execute_result",
          "data": {
            "text/plain": [
              "0.9999841874535437"
            ]
          },
          "metadata": {
            "tags": []
          },
          "execution_count": 118
        }
      ]
    },
    {
      "metadata": {
        "id": "0jf5oTMkEoPR",
        "colab_type": "code",
        "colab": {
          "base_uri": "https://localhost:8080/",
          "height": 463
        },
        "outputId": "9cf4fa33-3d60-43a1-9e2a-145ff5ebe56f"
      },
      "cell_type": "code",
      "source": [
        "# Jacobi\n",
        "Dinv = np.linalg.inv(D)\n",
        "T = Dinv @ (L + U)\n",
        "c = Dinv @ Atb\n",
        "reps = 20\n",
        "xi = np.random.rand(5)\n",
        "error = []\n",
        "for i in range(reps):\n",
        "    xi = c - (T@xi)\n",
        "    error.append(np.linalg.norm(xi - correct_ans))\n",
        "\n",
        "print(\"Jacobi:\")\n",
        "print(\"Estimacion:\", xi)\n",
        "print(\"Respuesta correcta\", correct_ans)\n",
        "eigs = np.linalg.eigvals(T)\n",
        "print(\"Radio espectral: {}\".format(abs(max(abs(np.min(eigs)),\n",
        "                                           abs(np.max(eigs))))))\n",
        "\n",
        "plt.plot(error)\n",
        "plt.title(\"Error de Jacobi\")\n",
        "plt.xlabel(\"Iteracion\")\n",
        "plt.ylabel(\"error\")\n",
        "plt.yscale('log')\n",
        "plt.show()"
      ],
      "execution_count": 122,
      "outputs": [
        {
          "output_type": "stream",
          "text": [
            "Jacobi:\n",
            "Estimacion: [3.53194344e+15 1.81003474e+14 5.92337397e+12 1.71921023e+11\n",
            " 4.73536480e+09]\n",
            "Respuesta correcta [10.73067082  4.91359959  0.44987258  0.00100203 -0.00000644]\n",
            "Radio espectral: 3.4564001412353735\n"
          ],
          "name": "stdout"
        },
        {
          "output_type": "display_data",
          "data": {
            "image/png": "[encoded data removed]",
            "text/plain": [
              "<matplotlib.figure.Figure at 0x7f106ced40b8>"
            ]
          },
          "metadata": {
            "tags": []
          }
        }
      ]
    },
    {
      "metadata": {
        "id": "ZKC4Dr_Gr8JN",
        "colab_type": "code",
        "colab": {
          "base_uri": "https://localhost:8080/",
          "height": 34
        },
        "outputId": "876154f0-8608-44b7-8fa6-8031f6576162"
      },
      "cell_type": "code",
      "source": [
        "# Vemos que T es diag dominante\n",
        "diag = np.abs(np.diag(T))\n",
        "sumCols = np.abs(T).sum(axis=0) - diag\n",
        "print(\"La T de Jacobi es diagonal dominante: {}\".format(np.all(diag >= sumCols)))"
      ],
      "execution_count": 124,
      "outputs": [
        {
          "output_type": "stream",
          "text": [
            "La T de Jacobi es diagonal dominante: False\n"
          ],
          "name": "stdout"
        }
      ]
    },
    {
      "metadata": {
        "id": "z3YpCmR3EoPW",
        "colab_type": "code",
        "colab": {
          "base_uri": "https://localhost:8080/",
          "height": 445
        },
        "outputId": "a04994f5-c0a6-4c90-887e-eceb27f65a03"
      },
      "cell_type": "code",
      "source": [
        "# Gauss-Seidel\n",
        "DLInv = np.linalg.inv(D-L)\n",
        "T = DLInv @ U\n",
        "c = DLInv @ Atb\n",
        "reps = 1000000;\n",
        "xi = np.random.rand(5)\n",
        "error = []\n",
        "for i in range(reps):\n",
        "    xi = c + T @ xi\n",
        "    error.append(np.linalg.norm(xi - correct_ans))\n",
        "\n",
        "print(\"Gauss-Seidel:\")\n",
        "print(\"Estimacion:\", xi)\n",
        "print(\"Respuesta correcta\", correct_ans)\n",
        "eigs = np.linalg.eigvals(T)\n",
        "print(\"Radio espectral: {}\".format(abs(max(abs(np.min(eigs)), abs(np.max(eigs))))))\n",
        "\n",
        "\n",
        "plt.plot(error)\n",
        "plt.title(\"Error de Gauss-Seidel\")\n",
        "plt.xlabel(\"Iteracion\")\n",
        "plt.ylabel(\"Error\")\n",
        "plt.show()\n"
      ],
      "execution_count": 129,
      "outputs": [
        {
          "output_type": "stream",
          "text": [
            "Gauss-Seidel:\n",
            "Estimacion: [10.73067082  4.91359959  0.44987258  0.00100203 -0.00000644]\n",
            "Respuesta correcta [10.73067082  4.91359959  0.44987258  0.00100203 -0.00000644]\n",
            "Radio espectral: 0.9999683095369567\n"
          ],
          "name": "stdout"
        },
        {
          "output_type": "display_data",
          "data": {
            "image/png": "[encoded data removed]",
            "text/plain": [
              "<matplotlib.figure.Figure at 0x7f106d1c84a8>"
            ]
          },
          "metadata": {
            "tags": []
          }
        }
      ]
    },
    {
      "metadata": {
        "id": "FDsMP4LMlFYJ",
        "colab_type": "code",
        "colab": {
          "base_uri": "https://localhost:8080/",
          "height": 34
        },
        "outputId": "f2fb1f46-9e93-4145-da5a-354bdb8cf6a2"
      },
      "cell_type": "code",
      "source": [
        "# Vemos que T es diag dominante\n",
        "diag = np.abs(np.diag(T))\n",
        "sumCols = np.abs(T).sum(axis=0) - diag\n",
        "print(\"La T de Gauss-Seidel es diagonal dominante: {}\".format(np.all(diag >= sumCols)))"
      ],
      "execution_count": 132,
      "outputs": [
        {
          "output_type": "stream",
          "text": [
            "La T de Gauss-Seidel es diagonal dominante: False\n"
          ],
          "name": "stdout"
        }
      ]
    },
    {
      "metadata": {
        "id": "jr-c6RGdEoPa",
        "colab_type": "code",
        "colab": {
          "base_uri": "https://localhost:8080/",
          "height": 376
        },
        "outputId": "f40ee588-cc6e-45a3-d50c-cdf0a7f5f6f1"
      },
      "cell_type": "code",
      "source": [
        "plt.plot(t, y, '.')\n",
        "#pred = xi[0] * t + xi[1] * t**2 + xi[2] * t**3 + xi[3] * t**4\n",
        "pred = xi[0] + xi[1] * t + xi[2] * t**2 + xi[3] * t**3 + xi[4] * t**4\n",
        "plt.plot(t, pred, 'r')\n",
        "plt.title(\"Polinomio ajustado\")\n",
        "plt.xlabel(\"t\")\n",
        "plt.ylabel(\"y\")\n",
        "plt.xlim(0, 40)\n",
        "plt.ylim(-10, 1000)\n",
        "plt.show()\n",
        "# np.transpose(A)\n"
      ],
      "execution_count": 134,
      "outputs": [
        {
          "output_type": "display_data",
          "data": {
            "image/png": "[encoded data removed]",
            "text/plain": [
              "<matplotlib.figure.Figure at 0x7f1068af9860>"
            ]
          },
          "metadata": {
            "tags": []
          }
        }
      ]
    },
    {
      "metadata": {
        "id": "y3YH1FDHEoPf",
        "colab_type": "text"
      },
      "cell_type": "markdown",
      "source": [
        "## Ejercicio 4\n",
        "\n",
        "Para el punto anterior, indicar si los métodos convergen o no y por qué. ¿Qué propiedades pueden aplicar para explicar la convergencia (o falta de ella) para cada método?\n",
        "Justificar adecuadamente."
      ]
    },
    {
      "metadata": {
        "id": "erq_9npREoPg",
        "colab_type": "text"
      },
      "cell_type": "markdown",
      "source": [
        "**Respuesta**:"
      ]
    },
    {
      "metadata": {
        "id": "Q-LvIGa-EoPh",
        "colab_type": "text"
      },
      "cell_type": "markdown",
      "source": [
        "## Evaluación y entrega\n",
        "\n",
        "- La evaluación será mediante un coloquio con los docentes durante la clase.\n",
        "- El taller se realiza en grupos. Se recomienda que sean los mismos de los TPs.\n",
        "- En caso de no asistir a clase, se debe entregar la resolución del taller por mail a metnum.lab@gmail.com hasta el día **Domingo 3 de Junio de 2018** justificando todas las respuestas.\n"
      ]
    }
  ]
}