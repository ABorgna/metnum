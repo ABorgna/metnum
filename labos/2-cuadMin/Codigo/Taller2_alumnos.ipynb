{
  "nbformat": 4,
  "nbformat_minor": 0,
  "metadata": {
    "colab": {
      "name": "Taller2_alumnos.ipynb",
      "version": "0.3.2",
      "provenance": [],
      "collapsed_sections": []
    },
    "kernelspec": {
      "display_name": "Python 3",
      "language": "python",
      "name": "python3"
    }
  },
  "cells": [
    {
      "metadata": {
        "id": "RN7rLwdGEoO3",
        "colab_type": "text"
      },
      "cell_type": "markdown",
      "source": [
        "Taller 2\n",
        "======\n",
        "\n",
        "Cuadrados minimos\n",
        "------\n",
        "\n",
        "El objetivo del taller es ganar un entendimiento más profundo de los temas que entran en el segundo parcial.\n",
        "Por tal motivo, se deben resolver los siguientes ejercicios y responder las preguntas justificando adecuadamente.\n"
      ]
    },
    {
      "metadata": {
        "id": "gsANZ7OREoO6",
        "colab_type": "text"
      },
      "cell_type": "markdown",
      "source": [
        "## Ejercicio 1\n",
        "Dada la siguiente matriz\n",
        "$$\n",
        "A =\n",
        "\\begin{pmatrix}\n",
        "\t1 & \\sqrt{3} & 0 \\\\\n",
        "\t\\sqrt{3} & 4 & \\sqrt{3}/2 \\\\\n",
        "\t0 & \\sqrt{3}/2 & 7/4\n",
        "\\end{pmatrix}\n",
        "$$\n",
        "\n",
        "Hallar $A = U \\Sigma V^t$ la descomposición en valores singulares de $A$ utilizando únicamente la función `eig` de Numpy para calcular los autovalores y autovectores necesarios.\n"
      ]
    },
    {
      "metadata": {
        "id": "W9MQ-9WTEoO7",
        "colab_type": "code",
        "colab": {}
      },
      "cell_type": "code",
      "source": [
        "import numpy as np\n",
        "from numpy.linalg import eig\n",
        "\n",
        "A = np.array([[1,          np.sqrt(3),   0           ],\n",
        "              [np.sqrt(3), 4,            np.sqrt(3)/2],\n",
        "              [0,          np.sqrt(3)/2, 7/4         ]])\n",
        "\n",
        "# COMPLETAR"
      ],
      "execution_count": 0,
      "outputs": []
    },
    {
      "metadata": {
        "id": "qiT3sCqzEoO_",
        "colab_type": "text"
      },
      "cell_type": "markdown",
      "source": [
        "## Ejercicio 2\n",
        "\n",
        "Dado el siguiente sistema lineal sobredeterminado:\n",
        "$$\n",
        "\\begin{pmatrix}\n",
        "1  & 0  & 0 \\\\\n",
        "0  & 1  & 0 \\\\\n",
        "0  & 0  & 1 \\\\\n",
        "-1 & 1  & 0 \\\\\n",
        "0  & -1 & 0 \\\\\n",
        "-1 & 0  & 1\n",
        "\\end{pmatrix}\n",
        "%\n",
        "\\begin{pmatrix}\n",
        "x_a \\\\\n",
        "x_b \\\\\n",
        "x_c\n",
        "\\end{pmatrix}\n",
        "=\n",
        "\\begin{pmatrix}\n",
        "1 \\\\ \n",
        "2 \\\\ \n",
        "3 \\\\\n",
        "1 \\\\\n",
        "2 \\\\\n",
        "1\n",
        "\\end{pmatrix}\n",
        "$$\n",
        "Resolver mediante cuadrados mínimos (utilizando ecuaciones normales). \n",
        "\n",
        "- Verificar que el residuo es ortogonal a las columnas de la matriz A. ¿A qué subespacio pertenece el residuo?\n",
        "\n",
        "- ¿Cómo se relaciona el punto anterior con las ecuaciones normales? Justificar\n"
      ]
    },
    {
      "metadata": {
        "id": "voBRskqYEoPA",
        "colab_type": "code",
        "colab": {}
      },
      "cell_type": "code",
      "source": [
        "A = np.array([[1, 0, 0],\n",
        "              [0, 1, 0],\n",
        "              [0, 0, 1],\n",
        "              [-1,1, 0],\n",
        "              [0,-1, 0],\n",
        "              [-1,0, 1]])\n",
        "\n",
        "b = np.array([1, 2, 3, 1, 2, 1])\n",
        "\n",
        "# COMPLETAR"
      ],
      "execution_count": 0,
      "outputs": []
    },
    {
      "metadata": {
        "id": "uvFxHJ0xEoPE",
        "colab_type": "text"
      },
      "cell_type": "markdown",
      "source": [
        "## Ejercicio 3\n",
        "\n",
        "Completar los métodos de Jacobi y Gauss-Seidel  para resolver las ecuaciones normales de cuadrados mínimos mediante los mencionados métodos iterativos. \n",
        "\n",
        "Realizar lo siguiente:\n",
        "- Explicar el problema: ¿Cómo son los datos? ¿Cómo los queremos aproximar?\n",
        "- Probar distintos valores de cantidad de iteraciones e inicialización del vector solución. \n",
        "- Graficar los errores y la función aproximada por cuadrados mínimos.\n",
        "- ¿Qué puede decir sobre los valores estimados de los coeficientes de mayor grado?\n"
      ]
    },
    {
      "metadata": {
        "id": "g7IEkxlgEoPF",
        "colab_type": "code",
        "colab": {
          "base_uri": "https://localhost:8080/",
          "height": 363
        },
        "outputId": "49ebe52a-b31c-41be-8a24-36d9f0f3b26a"
      },
      "cell_type": "code",
      "source": [
        "import numpy as np\n",
        "import matplotlib.pyplot as plt\n",
        "\n",
        "# Datos: polinomio de grado 2 (con ruido).\n",
        "t = np.arange(1, 40, 0.1)\n",
        "y = 1/2 * t ** 2 + 4 * t + 15\n",
        "y = y + np.random.randn(*x.shape) * 10  # Agrego ruido\n",
        "\n",
        "plt.plot(x, y, '.')\n",
        "plt.title('Datos a ajustar')\n",
        "plt.show()"
      ],
      "execution_count": 16,
      "outputs": [
        {
          "output_type": "display_data",
          "data": {
            "image/png": "[encoded data removed]",
            "text/plain": [
              "<matplotlib.figure.Figure at 0x7f6ff794c358>"
            ]
          },
          "metadata": {
            "tags": []
          }
        }
      ]
    },
    {
      "metadata": {
        "id": "itBREaMGEoPL",
        "colab_type": "code",
        "colab": {
          "base_uri": "https://localhost:8080/",
          "height": 35
        },
        "outputId": "78618f99-7291-4b50-988e-fe0b01ec8704"
      },
      "cell_type": "code",
      "source": [
        "# Ecuaciones normales de cuadrados minimos\n",
        "# Vamos a fitear por un polinomio de grado 4\n",
        "\n",
        "A = np.stack([np.ones(t.shape), t, t ** 2, t ** 3, t ** 4]).T\n",
        "b = y\n",
        "\n",
        "AtA = A.T @ A  # @ es una abreviacion de `np.matmul`\n",
        "Atb = A.T @ b\n",
        "\n",
        "correct_ans = np.linalg.solve(AtA, Atb)\n",
        "\n",
        "np.set_printoptions(suppress=True)  # elimino notacion cientifica\n",
        "print(correct_ans)"
      ],
      "execution_count": 17,
      "outputs": [
        {
          "output_type": "stream",
          "text": [
            "[14.99198188  4.30227659  0.45382889  0.00202218 -0.00002641]\n"
          ],
          "name": "stdout"
        }
      ]
    },
    {
      "metadata": {
        "id": "b5c3UoSwEoPO",
        "colab_type": "code",
        "colab": {}
      },
      "cell_type": "code",
      "source": [
        "# Matrices para los metodos iterativos\n",
        "D = np.diag(np.diag(AtA))\n",
        "L = -np.tril(AtA, -1)\n",
        "U = -np.triu(AtA, 1)"
      ],
      "execution_count": 0,
      "outputs": []
    },
    {
      "metadata": {
        "id": "0jf5oTMkEoPR",
        "colab_type": "code",
        "colab": {}
      },
      "cell_type": "code",
      "source": [
        "# Jacobi\n",
        "T = _\n",
        "c = _\n",
        "reps = 20\n",
        "xi = _\n",
        "error = []\n",
        "for i in range(reps):\n",
        "    xi = _\n",
        "    error.append(np.linalg.norm(xi - correct_ans))\n",
        "\n",
        "print(\"Jacobi:\")\n",
        "print(\"Estimacion:\", xi)\n",
        "print(\"Respuesta correcta\", correct_ans)\n",
        "\n",
        "plt.plot(error)\n",
        "plt.title(\"Error de Jacobi\")\n",
        "plt.xlabel(\"Iteracion\")\n",
        "plt.ylabel(\"error\")\n",
        "plt.yscale('log')\n",
        "plt.show()"
      ],
      "execution_count": 0,
      "outputs": []
    },
    {
      "metadata": {
        "id": "z3YpCmR3EoPW",
        "colab_type": "code",
        "colab": {}
      },
      "cell_type": "code",
      "source": [
        "# Gauss-Seidel\n",
        "T = _\n",
        "c = _\n",
        "reps = 100000;\n",
        "xi = _\n",
        "error = []\n",
        "for i in range(reps):\n",
        "    xi = _\n",
        "    error.append(np.linalg.norm(xi - correct_ans))\n",
        "\n",
        "print(\"Gauss-Seidel:\")\n",
        "print(\"Estimacion:\", xi)\n",
        "print(\"Respuesta correcta\", correct_ans)\n",
        "\n",
        "plt.plot(error)\n",
        "plt.title(\"Error de Gauss-Seidel\")\n",
        "plt.xlabel(\"Iteracion\")\n",
        "plt.ylabel(\"Error\")\n",
        "plt.show()\n"
      ],
      "execution_count": 0,
      "outputs": []
    },
    {
      "metadata": {
        "id": "jr-c6RGdEoPa",
        "colab_type": "code",
        "colab": {}
      },
      "cell_type": "code",
      "source": [
        "plt.plot(y, '.')\n",
        "pred = xi[0] * t + xi[1] * t**2 + xi[2] * t**3 + xi[3] * t**4\n",
        "plt.plot(pred, 'r')\n",
        "plt.title(\"Polinomio ajustado\")\n",
        "plt.xlabel(\"t\")\n",
        "plt.ylabel(\"y\")\n",
        "plt.show()"
      ],
      "execution_count": 0,
      "outputs": []
    },
    {
      "metadata": {
        "id": "y3YH1FDHEoPf",
        "colab_type": "text"
      },
      "cell_type": "markdown",
      "source": [
        "## Ejercicio 4\n",
        "\n",
        "Para el punto anterior, indicar si los métodos convergen o no y por qué. ¿Qué propiedades pueden aplicar para explicar la convergencia (o falta de ella) para cada método?\n",
        "Justificar adecuadamente."
      ]
    },
    {
      "metadata": {
        "id": "erq_9npREoPg",
        "colab_type": "text"
      },
      "cell_type": "markdown",
      "source": [
        "**Respuesta**:"
      ]
    },
    {
      "metadata": {
        "id": "Q-LvIGa-EoPh",
        "colab_type": "text"
      },
      "cell_type": "markdown",
      "source": [
        "## Evaluación y entrega\n",
        "\n",
        "- La evaluación será mediante un coloquio con los docentes durante la clase.\n",
        "- El taller se realiza en grupos. Se recomienda que sean los mismos de los TPs.\n",
        "- En caso de no asistir a clase, se debe entregar la resolución del taller por mail a metnum.lab@gmail.com hasta el día **Domingo 3 de Junio de 2018** justificando todas las respuestas.\n"
      ]
    }
  ]
}